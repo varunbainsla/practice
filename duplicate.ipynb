{
 "cells": [
  {
   "cell_type": "code",
   "execution_count": 1,
   "id": "8f750568",
   "metadata": {},
   "outputs": [],
   "source": [
    "import pyspark\n",
    "from pyspark.sql import SparkSession"
   ]
  },
  {
   "cell_type": "code",
   "execution_count": null,
   "id": "205a60d2",
   "metadata": {},
   "outputs": [],
   "source": []
  },
  {
   "cell_type": "code",
   "execution_count": 2,
   "id": "9d1ef8d8",
   "metadata": {},
   "outputs": [
    {
     "name": "stderr",
     "output_type": "stream",
     "text": [
      "Setting default log level to \"WARN\".\n",
      "To adjust logging level use sc.setLogLevel(newLevel). For SparkR, use setLogLevel(newLevel).\n"
     ]
    },
    {
     "name": "stdout",
     "output_type": "stream",
     "text": [
      "22/07/26 09:43:06 WARN NativeCodeLoader: Unable to load native-hadoop library for your platform... using builtin-java classes where applicable\n"
     ]
    }
   ],
   "source": [
    "spark=SparkSession.builder.appName('First').getOrCreate()"
   ]
  },
  {
   "cell_type": "code",
   "execution_count": 9,
   "id": "723681c4",
   "metadata": {},
   "outputs": [
    {
     "name": "stderr",
     "output_type": "stream",
     "text": [
      "                                                                                \r"
     ]
    }
   ],
   "source": [
    "df=spark.read.csv('steam-200k.csv',inferSchema=True)"
   ]
  },
  {
   "cell_type": "code",
   "execution_count": 5,
   "id": "fbdd2202",
   "metadata": {},
   "outputs": [
    {
     "data": {
      "text/plain": [
       "200000"
      ]
     },
     "execution_count": 5,
     "metadata": {},
     "output_type": "execute_result"
    }
   ],
   "source": [
    "df.count()"
   ]
  },
  {
   "cell_type": "code",
   "execution_count": 10,
   "id": "4cf0d086",
   "metadata": {},
   "outputs": [
    {
     "name": "stdout",
     "output_type": "stream",
     "text": [
      "+---------+--------------------+--------+-----+---+\n",
      "|      _c0|                 _c1|     _c2|  _c3|_c4|\n",
      "+---------+--------------------+--------+-----+---+\n",
      "|151603712|The Elder Scrolls...|purchase|  1.0|  0|\n",
      "|151603712|The Elder Scrolls...|    play|273.0|  0|\n",
      "|151603712|           Fallout 4|purchase|  1.0|  0|\n",
      "|151603712|           Fallout 4|    play| 87.0|  0|\n",
      "|151603712|               Spore|purchase|  1.0|  0|\n",
      "|151603712|               Spore|    play| 14.9|  0|\n",
      "|151603712|   Fallout New Vegas|purchase|  1.0|  0|\n",
      "|151603712|   Fallout New Vegas|    play| 12.1|  0|\n",
      "|151603712|       Left 4 Dead 2|purchase|  1.0|  0|\n",
      "|151603712|       Left 4 Dead 2|    play|  8.9|  0|\n",
      "|151603712|            HuniePop|purchase|  1.0|  0|\n",
      "|151603712|            HuniePop|    play|  8.5|  0|\n",
      "|151603712|       Path of Exile|purchase|  1.0|  0|\n",
      "|151603712|       Path of Exile|    play|  8.1|  0|\n",
      "|151603712|         Poly Bridge|purchase|  1.0|  0|\n",
      "|151603712|         Poly Bridge|    play|  7.5|  0|\n",
      "|151603712|         Left 4 Dead|purchase|  1.0|  0|\n",
      "|151603712|         Left 4 Dead|    play|  3.3|  0|\n",
      "|151603712|     Team Fortress 2|purchase|  1.0|  0|\n",
      "|151603712|     Team Fortress 2|    play|  2.8|  0|\n",
      "+---------+--------------------+--------+-----+---+\n",
      "only showing top 20 rows\n",
      "\n"
     ]
    }
   ],
   "source": [
    "df.show()"
   ]
  },
  {
   "cell_type": "code",
   "execution_count": 11,
   "id": "fc61f3fc",
   "metadata": {},
   "outputs": [
    {
     "name": "stdout",
     "output_type": "stream",
     "text": [
      "root\n",
      " |-- _c0: integer (nullable = true)\n",
      " |-- _c1: string (nullable = true)\n",
      " |-- _c2: string (nullable = true)\n",
      " |-- _c3: double (nullable = true)\n",
      " |-- _c4: integer (nullable = true)\n",
      "\n"
     ]
    }
   ],
   "source": [
    "df.printSchema()"
   ]
  },
  {
   "cell_type": "code",
   "execution_count": 13,
   "id": "0fddc3e3",
   "metadata": {},
   "outputs": [
    {
     "name": "stderr",
     "output_type": "stream",
     "text": [
      "\r",
      "[Stage 10:===================>                                      (1 + 2) / 3]\r"
     ]
    },
    {
     "name": "stdout",
     "output_type": "stream",
     "text": [
      "+---+------+\n",
      "|_c4| count|\n",
      "+---+------+\n",
      "|  0|200000|\n",
      "+---+------+\n",
      "\n"
     ]
    },
    {
     "name": "stderr",
     "output_type": "stream",
     "text": [
      "\r",
      "                                                                                \r"
     ]
    }
   ],
   "source": [
    "df.groupBy('_c4').count().show()"
   ]
  },
  {
   "cell_type": "code",
   "execution_count": 14,
   "id": "05a77f9a",
   "metadata": {},
   "outputs": [
    {
     "name": "stdout",
     "output_type": "stream",
     "text": [
      "+---------+--------------------+--------+-----+\n",
      "|      _c0|                 _c1|     _c2|  _c3|\n",
      "+---------+--------------------+--------+-----+\n",
      "|151603712|The Elder Scrolls...|purchase|  1.0|\n",
      "|151603712|The Elder Scrolls...|    play|273.0|\n",
      "|151603712|           Fallout 4|purchase|  1.0|\n",
      "|151603712|           Fallout 4|    play| 87.0|\n",
      "|151603712|               Spore|purchase|  1.0|\n",
      "|151603712|               Spore|    play| 14.9|\n",
      "|151603712|   Fallout New Vegas|purchase|  1.0|\n",
      "|151603712|   Fallout New Vegas|    play| 12.1|\n",
      "|151603712|       Left 4 Dead 2|purchase|  1.0|\n",
      "|151603712|       Left 4 Dead 2|    play|  8.9|\n",
      "|151603712|            HuniePop|purchase|  1.0|\n",
      "|151603712|            HuniePop|    play|  8.5|\n",
      "|151603712|       Path of Exile|purchase|  1.0|\n",
      "|151603712|       Path of Exile|    play|  8.1|\n",
      "|151603712|         Poly Bridge|purchase|  1.0|\n",
      "|151603712|         Poly Bridge|    play|  7.5|\n",
      "|151603712|         Left 4 Dead|purchase|  1.0|\n",
      "|151603712|         Left 4 Dead|    play|  3.3|\n",
      "|151603712|     Team Fortress 2|purchase|  1.0|\n",
      "|151603712|     Team Fortress 2|    play|  2.8|\n",
      "+---------+--------------------+--------+-----+\n",
      "only showing top 20 rows\n",
      "\n"
     ]
    }
   ],
   "source": [
    "df.drop('_c4').show()"
   ]
  },
  {
   "cell_type": "code",
   "execution_count": 27,
   "id": "957f5755",
   "metadata": {},
   "outputs": [],
   "source": [
    "df1=df.groupBy('_c0','_c1','_c2','_c3').count()"
   ]
  },
  {
   "cell_type": "code",
   "execution_count": 28,
   "id": "6dc21648",
   "metadata": {},
   "outputs": [
    {
     "name": "stdout",
     "output_type": "stream",
     "text": [
      "+---------+--------------------+--------+---+-----+\n",
      "|      _c0|                 _c1|     _c2|_c3|count|\n",
      "+---------+--------------------+--------+---+-----+\n",
      "| 53875128| The Talos Principle|    play|9.8|    1|\n",
      "| 53875128|             Nidhogg|purchase|1.0|    1|\n",
      "| 53875128|                 INK|purchase|1.0|    1|\n",
      "| 53875128|   Sonic Generations|    play|0.1|    1|\n",
      "|126340495|           Far Cry 3|purchase|1.0|    1|\n",
      "| 97298878|                Cogs|purchase|1.0|    1|\n",
      "|226212066|            My Lands|purchase|1.0|    1|\n",
      "| 65117175|Amnesia The Dark ...|    play|3.3|    1|\n",
      "| 65117175|           Dead Bits|purchase|1.0|    1|\n",
      "| 11373749|Tales of Monkey I...|    play|7.0|    1|\n",
      "| 11373749|   Dungeon Defenders|    play|2.3|    1|\n",
      "| 11373749|              Dota 2|purchase|1.0|    1|\n",
      "| 11373749|Counter-Strike So...|purchase|1.0|    1|\n",
      "|171847029|     Arma 2 DayZ Mod|purchase|1.0|    1|\n",
      "| 56038151|             Trine 2|    play|2.8|    1|\n",
      "| 56038151|Batman Arkham Cit...|purchase|1.0|    1|\n",
      "|248444377|        EverQuest II|purchase|1.0|    1|\n",
      "|248444377|  EVGA PrecisionX 16|purchase|1.0|    1|\n",
      "|100519466|         War Thunder|    play|1.6|    1|\n",
      "|100519466|                Pid |purchase|1.0|    1|\n",
      "+---------+--------------------+--------+---+-----+\n",
      "only showing top 20 rows\n",
      "\n"
     ]
    },
    {
     "name": "stderr",
     "output_type": "stream",
     "text": [
      "\r",
      "[Stage 45:===================>                                      (1 + 2) / 3]\r",
      "\r",
      "                                                                                \r"
     ]
    }
   ],
   "source": [
    "df1.show()"
   ]
  },
  {
   "cell_type": "code",
   "execution_count": 34,
   "id": "e1ceee75",
   "metadata": {},
   "outputs": [
    {
     "name": "stderr",
     "output_type": "stream",
     "text": [
      "                                                                                \r"
     ]
    },
    {
     "data": {
      "text/plain": [
       "707"
      ]
     },
     "execution_count": 34,
     "metadata": {},
     "output_type": "execute_result"
    }
   ],
   "source": [
    "df1.filter(df1['count'] >'1').count()"
   ]
  },
  {
   "cell_type": "code",
   "execution_count": 35,
   "id": "6480eaff",
   "metadata": {},
   "outputs": [],
   "source": [
    "df2=df.dropDuplicates()"
   ]
  },
  {
   "cell_type": "code",
   "execution_count": 37,
   "id": "a19231a4",
   "metadata": {},
   "outputs": [
    {
     "name": "stderr",
     "output_type": "stream",
     "text": [
      "                                                                                \r"
     ]
    },
    {
     "data": {
      "text/plain": [
       "199293"
      ]
     },
     "execution_count": 37,
     "metadata": {},
     "output_type": "execute_result"
    }
   ],
   "source": [
    "df2.count()"
   ]
  },
  {
   "cell_type": "code",
   "execution_count": 40,
   "id": "bfb91fed",
   "metadata": {},
   "outputs": [
    {
     "data": {
      "text/plain": [
       "['_c0', '_c1', '_c2', '_c3', '_c4']"
      ]
     },
     "execution_count": 40,
     "metadata": {},
     "output_type": "execute_result"
    }
   ],
   "source": [
    "df.columns"
   ]
  },
  {
   "cell_type": "code",
   "execution_count": 52,
   "id": "8fa45ad4",
   "metadata": {
    "scrolled": true
   },
   "outputs": [
    {
     "name": "stdout",
     "output_type": "stream",
     "text": [
      "+---+---+---+---+---+\n",
      "|_c0|_c1|_c2|_c3|_c4|\n",
      "+---+---+---+---+---+\n",
      "+---+---+---+---+---+\n",
      "\n"
     ]
    }
   ],
   "source": [
    "df.filter(df['_c0'].isNull() ).show()"
   ]
  },
  {
   "cell_type": "code",
   "execution_count": 53,
   "id": "e09a004f",
   "metadata": {},
   "outputs": [
    {
     "name": "stdout",
     "output_type": "stream",
     "text": [
      "+---+---+---+---+---+\n",
      "|_c0|_c1|_c2|_c3|_c4|\n",
      "+---+---+---+---+---+\n",
      "+---+---+---+---+---+\n",
      "\n"
     ]
    }
   ],
   "source": [
    "df.filter(df['_c1'].isNull() ).show()"
   ]
  },
  {
   "cell_type": "code",
   "execution_count": 54,
   "id": "a07d7a75",
   "metadata": {},
   "outputs": [
    {
     "name": "stdout",
     "output_type": "stream",
     "text": [
      "+---+---+---+---+---+\n",
      "|_c0|_c1|_c2|_c3|_c4|\n",
      "+---+---+---+---+---+\n",
      "+---+---+---+---+---+\n",
      "\n"
     ]
    }
   ],
   "source": [
    "df.filter(df['_c2'].isNull() ).show()"
   ]
  },
  {
   "cell_type": "code",
   "execution_count": 55,
   "id": "be6e5ba1",
   "metadata": {},
   "outputs": [
    {
     "name": "stdout",
     "output_type": "stream",
     "text": [
      "+---+---+---+---+---+\n",
      "|_c0|_c1|_c2|_c3|_c4|\n",
      "+---+---+---+---+---+\n",
      "+---+---+---+---+---+\n",
      "\n"
     ]
    }
   ],
   "source": [
    "df.filter(df['_c3'].isNull() ).show()"
   ]
  },
  {
   "cell_type": "code",
   "execution_count": 43,
   "id": "bb59c53d",
   "metadata": {},
   "outputs": [
    {
     "name": "stdout",
     "output_type": "stream",
     "text": [
      "+--------------------+-----+\n",
      "|                 _c1|count|\n",
      "+--------------------+-----+\n",
      "|              Dota 2| 9682|\n",
      "|METAL GEAR SOLID ...|  134|\n",
      "|LEGO Batman The V...|   17|\n",
      "|                RIFT|  236|\n",
      "|             Anodyne|   14|\n",
      "|  Legend of Grimrock|   93|\n",
      "|Divinity Original...|  138|\n",
      "|            Meltdown|    4|\n",
      "|SanctuaryRPG Blac...|    6|\n",
      "|       Snuggle Truck|   14|\n",
      "|        Lunar Flight|   16|\n",
      "|          Dungeons 2|   12|\n",
      "|      Zuma's Revenge|    7|\n",
      "|Dust An Elysian Tail|  122|\n",
      "|Call of Duty Mode...|  634|\n",
      "|Star Wars Dark Fo...|   70|\n",
      "|Alien Breed 2 Ass...|   45|\n",
      "|  Ascend Hand of Kul|   49|\n",
      "|  Batman Arkham City|   66|\n",
      "|Europa Universali...|   18|\n",
      "+--------------------+-----+\n",
      "only showing top 20 rows\n",
      "\n"
     ]
    },
    {
     "name": "stderr",
     "output_type": "stream",
     "text": [
      "\r",
      "[Stage 78:======================================>                   (2 + 1) / 3]\r",
      "\r",
      "                                                                                \r"
     ]
    }
   ],
   "source": [
    "df.groupBy('_c1').count().show()"
   ]
  },
  {
   "cell_type": "code",
   "execution_count": null,
   "id": "a70193e0",
   "metadata": {},
   "outputs": [],
   "source": []
  },
  {
   "cell_type": "code",
   "execution_count": null,
   "id": "7498f175",
   "metadata": {},
   "outputs": [],
   "source": []
  }
 ],
 "metadata": {
  "kernelspec": {
   "display_name": "Python 3 (ipykernel)",
   "language": "python",
   "name": "python3"
  },
  "language_info": {
   "codemirror_mode": {
    "name": "ipython",
    "version": 3
   },
   "file_extension": ".py",
   "mimetype": "text/x-python",
   "name": "python",
   "nbconvert_exporter": "python",
   "pygments_lexer": "ipython3",
   "version": "3.10.5"
  }
 },
 "nbformat": 4,
 "nbformat_minor": 5
}
